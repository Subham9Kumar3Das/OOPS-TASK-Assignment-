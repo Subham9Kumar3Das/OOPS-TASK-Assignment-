{
 "cells": [
  {
   "cell_type": "markdown",
   "id": "86c646a6-9a9b-41e6-8877-1fabfc7dc645",
   "metadata": {
    "tags": []
   },
   "source": [
    "# Q1. Create a vehicle class with an init method having instance variables as name_of_vehicle, max_speed and average_of_vehicle."
   ]
  },
  {
   "cell_type": "code",
   "execution_count": 1,
   "id": "0c471706-fe82-4c44-9945-a5ecc955be4b",
   "metadata": {},
   "outputs": [],
   "source": [
    "class vehicle:\n",
    "    \n",
    "    def __init__(self,name_of_vehicle, max_speed,average_of_vehicle):\n",
    "        self.name_of_vehicle=name_of_vehicle\n",
    "        self.max_speed=max_speed\n",
    "        self.average_of_vehicle=average_of_vehicle"
   ]
  },
  {
   "cell_type": "markdown",
   "id": "e72252f6-da9c-46f3-97bc-71d1a453aa50",
   "metadata": {
    "jp-MarkdownHeadingCollapsed": true,
    "tags": []
   },
   "source": [
    "# Q2. Create a child class car from the vehicle class created in Que 1, which will inherit the vehicle class.Create a method named seating_capacity which takes capacity as an argument and returns the name of the vehicle and its seating capacity."
   ]
  },
  {
   "cell_type": "code",
   "execution_count": 3,
   "id": "6d5fc446-4eb0-4e35-b2fe-8ad71dce9e9f",
   "metadata": {},
   "outputs": [],
   "source": [
    "class child(vehicle):\n",
    "    \n",
    "    def seating_capacity(self,seating_capacity):\n",
    "        return self.name_of_vehicle,seating_capacity"
   ]
  },
  {
   "cell_type": "code",
   "execution_count": 5,
   "id": "69f3380e-6bfa-4877-8a30-c79295bc40f2",
   "metadata": {},
   "outputs": [],
   "source": [
    "p1=child(\"Ninja\",120,35)"
   ]
  },
  {
   "cell_type": "code",
   "execution_count": 6,
   "id": "db1c2859-c58e-4045-b717-fafa0c3fecc1",
   "metadata": {},
   "outputs": [
    {
     "data": {
      "text/plain": [
       "('Ninja', 5)"
      ]
     },
     "execution_count": 6,
     "metadata": {},
     "output_type": "execute_result"
    }
   ],
   "source": [
    "p1.seating_capacity(5)"
   ]
  },
  {
   "cell_type": "markdown",
   "id": "54776452-7e20-4379-bb6c-20e0a30c74ee",
   "metadata": {},
   "source": [
    "# Q3. What is multiple inheritance? Write a python code to demonstrate multiple inheritance."
   ]
  },
  {
   "cell_type": "markdown",
   "id": "b085b65c-9208-468e-8551-39f1eb6452db",
   "metadata": {
    "jp-MarkdownHeadingCollapsed": true,
    "tags": []
   },
   "source": [
    "### Multiple inheritance means inhereting attributes and methods from more than one parent class"
   ]
  },
  {
   "cell_type": "code",
   "execution_count": 8,
   "id": "e2e149da-15d3-4b74-9578-07f7e8f47fd9",
   "metadata": {},
   "outputs": [],
   "source": [
    "class change():\n",
    "    def change1(self,r):\n",
    "        self.max_speed=self.max_speed+r"
   ]
  },
  {
   "cell_type": "code",
   "execution_count": 9,
   "id": "2763f1dd-7983-4aa0-89b5-ff24f02e6e0a",
   "metadata": {},
   "outputs": [],
   "source": [
    "class final(vehicle,change):\n",
    "    def output(self):\n",
    "        return self.name_of_vehicle,self.max_speed"
   ]
  },
  {
   "cell_type": "code",
   "execution_count": 11,
   "id": "1653d573-1430-43f9-814e-882a8d51bd75",
   "metadata": {},
   "outputs": [],
   "source": [
    "p2=final(\"Ninja\",120,30)"
   ]
  },
  {
   "cell_type": "code",
   "execution_count": 14,
   "id": "2e2c2933-4277-4354-868f-a4e5fad25ae9",
   "metadata": {},
   "outputs": [],
   "source": [
    "p2.change1(40)"
   ]
  },
  {
   "cell_type": "code",
   "execution_count": 15,
   "id": "f561e99c-3d58-4298-8ae7-12061d6f44bf",
   "metadata": {},
   "outputs": [
    {
     "data": {
      "text/plain": [
       "('Ninja', 160)"
      ]
     },
     "execution_count": 15,
     "metadata": {},
     "output_type": "execute_result"
    }
   ],
   "source": [
    "p2.output()"
   ]
  },
  {
   "cell_type": "markdown",
   "id": "4cd3ad84-560d-4f9b-bea0-de3d07a8ea22",
   "metadata": {
    "jp-MarkdownHeadingCollapsed": true,
    "tags": []
   },
   "source": [
    "# Q4. What are getter and setter in python? Create a class and create a getter and a setter method in this class."
   ]
  },
  {
   "cell_type": "markdown",
   "id": "779e4d23-0bd7-49ae-bbaf-93eaadfe8673",
   "metadata": {},
   "source": [
    "### Getters and Setters are the way to modify or access values through object ."
   ]
  },
  {
   "cell_type": "code",
   "execution_count": null,
   "id": "51c8e1cd-613b-4d27-b92a-eec2b980ee42",
   "metadata": {},
   "outputs": [],
   "source": [
    "class pwskills3:\n",
    "    \n",
    "    def __init__(self,a,b):\n",
    "        self.__a=a\n",
    "        self.b=b\n",
    "    @property\n",
    "    def course(self):\n",
    "        return self.__a\n",
    "    @course.setter\n",
    "    def course_set(self,s):\n",
    "        if s<=4:\n",
    "            self.__a=self.__a+s\n",
    "        else:\n",
    "            self.course"
   ]
  },
  {
   "cell_type": "markdown",
   "id": "dfecb60a-e526-46f5-8dbf-778b267c312d",
   "metadata": {},
   "source": [
    "# Q5.What is method overriding in python? Write a python code to demonstrate method overriding."
   ]
  },
  {
   "cell_type": "markdown",
   "id": "f575fd33-17ef-4d86-bad4-65a29fed71fb",
   "metadata": {},
   "source": [
    "###  Method overriding is achieved by defining a method with the same name in the subclass as the one in the superclass. When the method is called on an object of the subclass, the overridden method in the subclass is executed instead of the superclass method. "
   ]
  },
  {
   "cell_type": "code",
   "execution_count": null,
   "id": "f7ea2232-e728-4a0e-9ee0-f36187ab8eac",
   "metadata": {},
   "outputs": [],
   "source": [
    "class egg:\n",
    "    def cook(self):\n",
    "        return \"Cook egg\"\n",
    "class chicken(egg):\n",
    "    def cook (self):\n",
    "        print(\"Cook chickenprint\")\n",
    "class mutton(egg)\n",
    "    def cook (self):\n",
    "        return \"cook mutton\""
   ]
  },
  {
   "cell_type": "code",
   "execution_count": null,
   "id": "b5f935d3-6701-45fb-8abc-bcc43bff6f5b",
   "metadata": {},
   "outputs": [],
   "source": [
    "p1=chicken()"
   ]
  },
  {
   "cell_type": "code",
   "execution_count": null,
   "id": "bd86a119-518a-4159-bc84-7dda9bf69f5d",
   "metadata": {},
   "outputs": [],
   "source": [
    "print(p1.cook())"
   ]
  },
  {
   "cell_type": "code",
   "execution_count": null,
   "id": "c52a47c6-2fb4-4e1b-b1f5-ac5f0c3a62ff",
   "metadata": {},
   "outputs": [],
   "source": []
  }
 ],
 "metadata": {
  "kernelspec": {
   "display_name": "Python 3 (ipykernel)",
   "language": "python",
   "name": "python3"
  },
  "language_info": {
   "codemirror_mode": {
    "name": "ipython",
    "version": 3
   },
   "file_extension": ".py",
   "mimetype": "text/x-python",
   "name": "python",
   "nbconvert_exporter": "python",
   "pygments_lexer": "ipython3",
   "version": "3.10.8"
  }
 },
 "nbformat": 4,
 "nbformat_minor": 5
}
